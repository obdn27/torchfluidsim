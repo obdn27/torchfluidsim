{
 "cells": [
  {
   "cell_type": "code",
   "execution_count": 1,
   "metadata": {},
   "outputs": [],
   "source": [
    "import solvers\n",
    "import torch\n",
    "import matplotlib.pyplot as plt\n",
    "import numpy as np"
   ]
  },
  {
   "cell_type": "code",
   "execution_count": 18,
   "metadata": {},
   "outputs": [
    {
     "ename": "AttributeError",
     "evalue": "'numpy.ndarray' object has no attribute 'numpy'",
     "output_type": "error",
     "traceback": [
      "\u001b[1;31m---------------------------------------------------------------------------\u001b[0m",
      "\u001b[1;31mAttributeError\u001b[0m                            Traceback (most recent call last)",
      "Cell \u001b[1;32mIn[18], line 26\u001b[0m\n\u001b[0;32m     21\u001b[0m     \u001b[38;5;28;01mreturn\u001b[39;00m (arr \u001b[38;5;241m-\u001b[39m min_val) \u001b[38;5;241m/\u001b[39m (max_val \u001b[38;5;241m-\u001b[39m min_val) \u001b[38;5;28;01mif\u001b[39;00m max_val \u001b[38;5;241m>\u001b[39m min_val \u001b[38;5;28;01melse\u001b[39;00m np\u001b[38;5;241m.\u001b[39mzeros_like(arr)\n\u001b[0;32m     24\u001b[0m next_frame \u001b[38;5;241m=\u001b[39m normalize_array(next_frame\u001b[38;5;241m.\u001b[39mnumpy())\n\u001b[1;32m---> 26\u001b[0m next_frame \u001b[38;5;241m=\u001b[39m \u001b[43m(\u001b[49m\u001b[43mnext_frame\u001b[49m\u001b[43m \u001b[49m\u001b[38;5;241;43m*\u001b[39;49m\u001b[43m \u001b[49m\u001b[38;5;241;43m255\u001b[39;49m\u001b[43m)\u001b[49m\u001b[38;5;241;43m.\u001b[39;49m\u001b[43mnumpy\u001b[49m()\u001b[38;5;241m.\u001b[39mastype(np\u001b[38;5;241m.\u001b[39muint8)\n\u001b[0;32m     28\u001b[0m plt\u001b[38;5;241m.\u001b[39mfigure(figsize\u001b[38;5;241m=\u001b[39m(\u001b[38;5;241m16\u001b[39m, \u001b[38;5;241m16\u001b[39m))\n\u001b[0;32m     29\u001b[0m plt\u001b[38;5;241m.\u001b[39mimshow(next_frame[:, :, \u001b[38;5;241m0\u001b[39m])\n",
      "\u001b[1;31mAttributeError\u001b[0m: 'numpy.ndarray' object has no attribute 'numpy'"
     ]
    }
   ],
   "source": [
    "grid_resolution = 768, 768\n",
    "window_res = 768, 768\n",
    "\n",
    "current_frame = torch.zeros((*grid_resolution, 3), dtype=torch.float32)\n",
    "\n",
    "next_frame = solvers.interaction_step(\n",
    "\tframe=current_frame,\n",
    "\tinteraction_radius=120,\n",
    "\tmouse_x=384,\n",
    "\tmouse_y=384,\n",
    "\tgrid_resolution=grid_resolution,\n",
    "\twindow_res=window_res,\n",
    "\tmouse_acceleration=(50, 50),\n",
    "\tdt=1,\n",
    ")\n",
    "\n",
    "def normalize_array(arr):\n",
    "    \"\"\"Scales an input NumPy array to the range [0, 1].\"\"\"\n",
    "    min_val = np.min(arr)\n",
    "    max_val = np.max(arr)\n",
    "    return (arr - min_val) / (max_val - min_val) if max_val > min_val else np.zeros_like(arr)\n",
    "\n",
    "\n",
    "next_frame = normalize_array(next_frame.numpy())\n",
    "\n",
    "next_frame = (next_frame * 255).astype(np.uint8)\n",
    "\n",
    "plt.figure(figsize=(16, 16))\n",
    "plt.imshow(next_frame[:, :, 0])\n",
    "plt.show()"
   ]
  }
 ],
 "metadata": {
  "kernelspec": {
   "display_name": ".venv",
   "language": "python",
   "name": "python3"
  },
  "language_info": {
   "codemirror_mode": {
    "name": "ipython",
    "version": 3
   },
   "file_extension": ".py",
   "mimetype": "text/x-python",
   "name": "python",
   "nbconvert_exporter": "python",
   "pygments_lexer": "ipython3",
   "version": "3.12.4"
  }
 },
 "nbformat": 4,
 "nbformat_minor": 2
}
